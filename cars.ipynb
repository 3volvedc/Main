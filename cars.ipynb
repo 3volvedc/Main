{
 "cells": [
  {
   "cell_type": "code",
   "execution_count": null,
   "metadata": {},
   "outputs": [],
   "source": [
    "import pandas as pd\n",
    "import numpy as np\n",
    "import matplotlib.pyplot as plt\n",
    "import seaborn as sns\n",
    "\n",
    "pd.set_option('display.max_columns', None)"
   ]
  },
  {
   "cell_type": "code",
   "execution_count": null,
   "metadata": {},
   "outputs": [],
   "source": [
    "def lowercase_data(df):\n",
    "    \"\"\"Alters column names to make them easier to use\n",
    "    \n",
    "    Args:\n",
    "        df (DataFrame): name of the variable the dataframe is saved as\n",
    "    \n",
    "    Returns:\n",
    "        Lowercase column names with no '_' in place for spaces and slashes. \n",
    "    \"\"\"\n",
    "    for col in df.columns:\n",
    "        df.columns = df.columns.str.lower()\n",
    "        df.columns = df.columns.str.replace(' ', '_')\n",
    "    return df"
   ]
  },
  {
   "cell_type": "code",
   "execution_count": null,
   "metadata": {},
   "outputs": [],
   "source": [
    "cars = pd.read_csv(\"10_cars.csv\")"
   ]
  },
  {
   "cell_type": "code",
   "execution_count": null,
   "metadata": {},
   "outputs": [],
   "source": [
    "type_counts = cars['Type'].value_counts()"
   ]
  },
  {
   "cell_type": "code",
   "execution_count": null,
   "metadata": {},
   "outputs": [],
   "source": [
    "sns.set_style(\"dark\")\n",
    "\n",
    "# Plot the brand distribution\n",
    "plt.figure(figsize=(10, 6))\n",
    "sns.barplot(x=type_counts.index, y=type_counts.values)\n",
    "plt.xlabel('Car Type')\n",
    "plt.ylabel('Frequency')\n",
    "plt.title('Car Type Distribution')\n",
    "plt.xticks(rotation=45)"
   ]
  },
  {
   "cell_type": "code",
   "execution_count": null,
   "metadata": {},
   "outputs": [],
   "source": [
    "cars[\"Used Market Price\"] = [75000, 158500, 130000, 70000, 62500, 65000, 14500, 80000, 425000, 18500]"
   ]
  },
  {
   "cell_type": "code",
   "execution_count": null,
   "metadata": {},
   "outputs": [],
   "source": [
    "removals = (cars['Type'] == 'Truck') | (cars['Model'] == 'S5 Coupe')\n",
    "cars = cars[~removals]"
   ]
  },
  {
   "cell_type": "code",
   "execution_count": null,
   "metadata": {},
   "outputs": [],
   "source": [
    "cars = cars.sort_values('Rank')"
   ]
  },
  {
   "cell_type": "code",
   "execution_count": null,
   "metadata": {},
   "outputs": [],
   "source": [
    "cars[\"Horsepower\"] = [550, 414, 252, 197, 720, 150, 616, 475]"
   ]
  },
  {
   "cell_type": "code",
   "execution_count": null,
   "metadata": {},
   "outputs": [],
   "source": [
    "audi_rsq8 = {'Brand':'Audi', 'Model':'RS Q8', 'Year': 2022, 'Rank': 2, 'Type':'SUV', 'Engine Type': 'Gas', 'Used Market Price': 126000, 'Horsepower': 590}\n",
    "lexus_is350_sport = {'Brand':'Lexus', 'Model':'IS 350 F Sport', 'Year': 2022, 'Rank': 8, 'Type':'Car', 'Engine Type': 'Gas', 'Used Market Price': 42000, 'Horsepower': 472}\n",
    "\n",
    "audi_rsq8, lexus_is350_sport = pd.DataFrame([audi_rsq8]), pd.DataFrame([lexus_is350_sport])\n",
    "cars = pd.concat([cars, audi_rsq8, lexus_is350_sport], ignore_index=True).set_index('Rank').sort_index()"
   ]
  },
  {
   "cell_type": "code",
   "execution_count": null,
   "metadata": {},
   "outputs": [],
   "source": [
    "cars.sort_values('Used Market Price', ascending=False)"
   ]
  },
  {
   "cell_type": "code",
   "execution_count": null,
   "metadata": {},
   "outputs": [],
   "source": [
    "cars['Decade'] = (np.floor(cars['Year'].astype(int) / 10) * 10).astype(int)"
   ]
  },
  {
   "cell_type": "code",
   "execution_count": null,
   "metadata": {},
   "outputs": [],
   "source": [
    "german_brand = 'Mercedes|Audi|Porsche'\n",
    "japanese_brand = 'Acura|Honda|Lexus|Mazda'\n",
    "american_brand = 'Jeep'\n",
    "british_brand = 'Jaguar'\n",
    "\n",
    "brand_countries = ['Germany', 'Japan', 'United States', 'United Kingdom']\n",
    "car_countries = [\n",
    "                (cars['Brand'].str.contains(german_brand)),\n",
    "                (cars['Brand'].str.contains(japanese_brand)),\n",
    "                (cars['Brand'].str.contains(american_brand)),\n",
    "                (cars['Brand'].str.contains(british_brand))\n",
    "                ]\n",
    "cars[\"Country\"] = np.select(car_countries, brand_countries, default='Other')"
   ]
  },
  {
   "cell_type": "code",
   "execution_count": null,
   "metadata": {},
   "outputs": [],
   "source": [
    "cars_category = {'Brand':'category','Type':'category','Engine Type':'category','Country':'category'}\n",
    "cars = cars.astype(cars_category)"
   ]
  },
  {
   "cell_type": "code",
   "execution_count": null,
   "metadata": {},
   "outputs": [],
   "source": [
    "cars.dtypes"
   ]
  },
  {
   "cell_type": "code",
   "execution_count": null,
   "metadata": {},
   "outputs": [],
   "source": [
    "sns.set_style(\"dark\")\n",
    "sns.barplot(data=cars, x='Country', y='Used Market Price', hue='Model', palette='muted')\n",
    "plt.title('Used Market Price by Model and Country')"
   ]
  },
  {
   "cell_type": "code",
   "execution_count": null,
   "metadata": {},
   "outputs": [],
   "source": [
    "cars = lowercase_data(cars)"
   ]
  },
  {
   "cell_type": "code",
   "execution_count": null,
   "metadata": {},
   "outputs": [],
   "source": [
    "cars"
   ]
  },
  {
   "cell_type": "code",
   "execution_count": null,
   "metadata": {},
   "outputs": [],
   "source": [
    "sns.swarmplot(x='brand', y='horsepower', data=cars)"
   ]
  },
  {
   "cell_type": "code",
   "execution_count": null,
   "metadata": {},
   "outputs": [],
   "source": [
    "cars.to_csv('NEW_10_cars.csv')"
   ]
  }
 ],
 "metadata": {
  "language_info": {
   "name": "python"
  }
 },
 "nbformat": 4,
 "nbformat_minor": 2
}
